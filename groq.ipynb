{
 "cells": [
  {
   "cell_type": "code",
   "execution_count": 3,
   "id": "dd9e35a8-478b-499d-91b7-45576923cb47",
   "metadata": {},
   "outputs": [],
   "source": [
    "from langchain_groq import ChatGroq"
   ]
  },
  {
   "cell_type": "code",
   "execution_count": 5,
   "id": "c871d4ce-ada5-4b1b-8f44-0e86aa5f89b8",
   "metadata": {},
   "outputs": [],
   "source": [
    "\n",
    "llm = ChatGroq(\n",
    "    temperature=0,\n",
    "    groq_api_key = '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',\n",
    "    model_name= \"llama-3.1-70b-versatile\"\n",
    ")"
   ]
  },
  {
   "cell_type": "code",
   "execution_count": 6,
   "id": "8f92b750-bec5-46e4-8f84-5ef58f7e4abf",
   "metadata": {},
   "outputs": [],
   "source": [
    "response = llm.invoke(\"What is your favourite color?...\")"
   ]
  },
  {
   "cell_type": "code",
   "execution_count": 9,
   "id": "6d38b11b-5205-4158-8458-09ad28c83cf4",
   "metadata": {},
   "outputs": [
    {
     "name": "stdout",
     "output_type": "stream",
     "text": [
      "I don't have a personal preference, including favorite colors. I'm a large language model, I am designed to provide information and assist with tasks, but I don't have personal experiences, emotions, or preferences. However, I can tell you about different colors, color theory, and even help you choose a color scheme if you'd like!\n"
     ]
    }
   ],
   "source": [
    "print(response.content)"
   ]
  },
  {
   "cell_type": "code",
   "execution_count": null,
   "id": "2d82ddc4-e48f-4258-a193-9f8c6e6ea2e6",
   "metadata": {},
   "outputs": [],
   "source": []
  }
 ],
 "metadata": {
  "kernelspec": {
   "display_name": "Python 3 (ipykernel)",
   "language": "python",
   "name": "python3"
  },
  "language_info": {
   "codemirror_mode": {
    "name": "ipython",
    "version": 3
   },
   "file_extension": ".py",
   "mimetype": "text/x-python",
   "name": "python",
   "nbconvert_exporter": "python",
   "pygments_lexer": "ipython3",
   "version": "3.11.9"
  }
 },
 "nbformat": 4,
 "nbformat_minor": 5
}
