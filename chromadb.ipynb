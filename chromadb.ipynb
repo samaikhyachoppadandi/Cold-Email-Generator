{
 "cells": [
  {
   "cell_type": "code",
   "execution_count": 2,
   "id": "1638ffe9-e960-45a8-9f3d-fe56775423fc",
   "metadata": {},
   "outputs": [],
   "source": [
    "import chromadb"
   ]
  },
  {
   "cell_type": "markdown",
   "id": "2138406c-f681-44d9-add4-06979d067f66",
   "metadata": {},
   "source": [
    "### Create a schema with my_collection"
   ]
  },
  {
   "cell_type": "code",
   "execution_count": 6,
   "id": "fe16d658-cf21-4d55-81e4-2b7ab32f0b42",
   "metadata": {},
   "outputs": [],
   "source": [
    "client = chromadb.Client()\n",
    "collection = client.create_collection(name=\"my_collection\")"
   ]
  },
  {
   "cell_type": "markdown",
   "id": "fb87cf96-9bc3-49a1-8cc0-b4c866459442",
   "metadata": {},
   "source": [
    "### Create a collection with some sample data"
   ]
  },
  {
   "cell_type": "code",
   "execution_count": 7,
   "id": "0998fbd9-fb19-4667-a4a1-89a1245bb371",
   "metadata": {},
   "outputs": [
    {
     "name": "stderr",
     "output_type": "stream",
     "text": [
      "C:\\Users\\sammu\\.cache\\chroma\\onnx_models\\all-MiniLM-L6-v2\\onnx.tar.gz: 100%|█████| 79.3M/79.3M [00:03<00:00, 26.6MiB/s]\n"
     ]
    }
   ],
   "source": [
    "collection.add(\n",
    "    documents = [\"This document is about New York\",\"This document is about Delhi\"],\n",
    "    ids = ['id1','id2']\n",
    ")"
   ]
  },
  {
   "cell_type": "markdown",
   "id": "8475034c-6353-4a26-9795-cce0a3f7ac1f",
   "metadata": {},
   "source": [
    "### To see all collection"
   ]
  },
  {
   "cell_type": "code",
   "execution_count": 8,
   "id": "772d44d9-c86a-4420-b63f-5905f814afb5",
   "metadata": {},
   "outputs": [
    {
     "data": {
      "text/plain": [
       "{'ids': ['id1', 'id2'],\n",
       " 'embeddings': None,\n",
       " 'documents': ['This document is about New York',\n",
       "  'This document is about Delhi'],\n",
       " 'uris': None,\n",
       " 'data': None,\n",
       " 'metadatas': [None, None],\n",
       " 'included': [<IncludeEnum.documents: 'documents'>,\n",
       "  <IncludeEnum.metadatas: 'metadatas'>]}"
      ]
     },
     "execution_count": 8,
     "metadata": {},
     "output_type": "execute_result"
    }
   ],
   "source": [
    "all_docs = collection.get()\n",
    "all_docs"
   ]
  },
  {
   "cell_type": "markdown",
   "id": "976d3b1e-1f6b-48f4-94f4-801a7ebb712f",
   "metadata": {},
   "source": [
    "### To see collection information by id"
   ]
  },
  {
   "cell_type": "code",
   "execution_count": 9,
   "id": "6343743c-e2de-4be9-a9ca-aeaea9111cc7",
   "metadata": {},
   "outputs": [
    {
     "data": {
      "text/plain": [
       "{'ids': ['id1'],\n",
       " 'embeddings': None,\n",
       " 'documents': ['This document is about New York'],\n",
       " 'uris': None,\n",
       " 'data': None,\n",
       " 'metadatas': [None],\n",
       " 'included': [<IncludeEnum.documents: 'documents'>,\n",
       "  <IncludeEnum.metadatas: 'metadatas'>]}"
      ]
     },
     "execution_count": 9,
     "metadata": {},
     "output_type": "execute_result"
    }
   ],
   "source": [
    "documents = collection.get(ids=[\"id1\"])\n",
    "documents"
   ]
  },
  {
   "cell_type": "markdown",
   "id": "75425792-dd46-4bc9-b377-25db9cd59092",
   "metadata": {},
   "source": [
    "### Query is doing semantic search, and results to match the document"
   ]
  },
  {
   "cell_type": "code",
   "execution_count": 13,
   "id": "cf16c45d-eaee-448c-916b-1796f8528967",
   "metadata": {},
   "outputs": [
    {
     "data": {
      "text/plain": [
       "{'ids': [['id1', 'id2']],\n",
       " 'embeddings': None,\n",
       " 'documents': [['This document is about New York',\n",
       "   'This document is about Delhi']],\n",
       " 'uris': None,\n",
       " 'data': None,\n",
       " 'metadatas': [[None, None]],\n",
       " 'distances': [[1.095342755317688, 1.571172833442688]],\n",
       " 'included': [<IncludeEnum.distances: 'distances'>,\n",
       "  <IncludeEnum.documents: 'documents'>,\n",
       "  <IncludeEnum.metadatas: 'metadatas'>]}"
      ]
     },
     "execution_count": 13,
     "metadata": {},
     "output_type": "execute_result"
    }
   ],
   "source": [
    "rs =collection.query(\n",
    "    query_texts=['Query is about brooklyn bridge'],\n",
    "    n_results=2\n",
    ")\n",
    "rs"
   ]
  },
  {
   "cell_type": "markdown",
   "id": "e6e6d492-675a-46bc-8e5c-d0c95b10e121",
   "metadata": {},
   "source": [
    "### to delete all the documents"
   ]
  },
  {
   "cell_type": "code",
   "execution_count": 14,
   "id": "4919bd36-39fe-46c7-8f85-7915f52f1e2d",
   "metadata": {},
   "outputs": [
    {
     "data": {
      "text/plain": [
       "{'ids': [],\n",
       " 'embeddings': None,\n",
       " 'documents': [],\n",
       " 'uris': None,\n",
       " 'data': None,\n",
       " 'metadatas': [],\n",
       " 'included': [<IncludeEnum.documents: 'documents'>,\n",
       "  <IncludeEnum.metadatas: 'metadatas'>]}"
      ]
     },
     "execution_count": 14,
     "metadata": {},
     "output_type": "execute_result"
    }
   ],
   "source": [
    "collection.delete(ids=all_docs['ids'])\n",
    "collection.get()"
   ]
  },
  {
   "cell_type": "markdown",
   "id": "ee3bc3d3-d8bf-4acc-849f-acf10fb1a25e",
   "metadata": {},
   "source": [
    "### to add meta data, helps to provide the source of the information"
   ]
  },
  {
   "cell_type": "code",
   "execution_count": 15,
   "id": "f309be39-8ead-4f47-8a29-64bbb2ea6fb3",
   "metadata": {},
   "outputs": [],
   "source": [
    "collection.add(\n",
    "    documents = [\"This document is about New York\",\"This document is about Delhi\"],\n",
    "    ids = ['id3','id4'],\n",
    "    metadatas=[\n",
    "        {\"url\" : \"https://en.wikipedia.org/wiki/New_York_City\"},\n",
    "        {\"url\" : \"https://en.wikipedia.org/wiki/Delhi\"}\n",
    "    ]\n",
    ")"
   ]
  },
  {
   "cell_type": "code",
   "execution_count": 16,
   "id": "9ca94ae9-7690-4b19-8563-30d0cdd005d5",
   "metadata": {},
   "outputs": [
    {
     "data": {
      "text/plain": [
       "{'ids': [['id3', 'id4']],\n",
       " 'embeddings': None,\n",
       " 'documents': [['This document is about New York',\n",
       "   'This document is about Delhi']],\n",
       " 'uris': None,\n",
       " 'data': None,\n",
       " 'metadatas': [[{'url': 'https://en.wikipedia.org/wiki/New_York_City'},\n",
       "   {'url': 'https://en.wikipedia.org/wiki/Delhi'}]],\n",
       " 'distances': [[1.095342755317688, 1.571172833442688]],\n",
       " 'included': [<IncludeEnum.distances: 'distances'>,\n",
       "  <IncludeEnum.documents: 'documents'>,\n",
       "  <IncludeEnum.metadatas: 'metadatas'>]}"
      ]
     },
     "execution_count": 16,
     "metadata": {},
     "output_type": "execute_result"
    }
   ],
   "source": [
    "rs =collection.query(\n",
    "    query_texts=['Query is about brooklyn bridge'],\n",
    "    n_results=2\n",
    ")\n",
    "rs"
   ]
  },
  {
   "cell_type": "code",
   "execution_count": null,
   "id": "b021f34a-6885-4118-b9c5-647086887cab",
   "metadata": {},
   "outputs": [],
   "source": []
  }
 ],
 "metadata": {
  "kernelspec": {
   "display_name": "Python 3 (ipykernel)",
   "language": "python",
   "name": "python3"
  },
  "language_info": {
   "codemirror_mode": {
    "name": "ipython",
    "version": 3
   },
   "file_extension": ".py",
   "mimetype": "text/x-python",
   "name": "python",
   "nbconvert_exporter": "python",
   "pygments_lexer": "ipython3",
   "version": "3.11.9"
  }
 },
 "nbformat": 4,
 "nbformat_minor": 5
}
