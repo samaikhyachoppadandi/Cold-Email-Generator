{
 "cells": [
  {
   "cell_type": "code",
   "execution_count": 1,
   "id": "b6aa3963-8b69-4eef-88c3-062478680a23",
   "metadata": {},
   "outputs": [],
   "source": [
    "from langchain_groq import ChatGroq"
   ]
  },
  {
   "cell_type": "code",
   "execution_count": 2,
   "id": "8363349f-39d0-45c8-834e-da034f211d59",
   "metadata": {},
   "outputs": [],
   "source": [
    "llm = ChatGroq(\n",
    "    temperature=0,\n",
    "    groq_api_key = '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',\n",
    "    model_name= \"llama-3.1-70b-versatile\"\n",
    ")"
   ]
  },
  {
   "cell_type": "code",
   "execution_count": 3,
   "id": "1b69a200-a6b5-409d-a35e-680f59e2279a",
   "metadata": {},
   "outputs": [
    {
     "name": "stderr",
     "output_type": "stream",
     "text": [
      "USER_AGENT environment variable not set, consider setting it to identify your requests.\n"
     ]
    }
   ],
   "source": [
    "from langchain_community.document_loaders import WebBaseLoader\n",
    "\n",
    "loader = WebBaseLoader(\"https://jobs.apple.com/en-us/details/200571863/aiml-data-scientist-data-and-ml-innovation?team=MLAI\")\n",
    "page_data = loader.load().pop().page_content"
   ]
  },
  {
   "cell_type": "code",
   "execution_count": 4,
   "id": "fecd99c2-b34c-42b8-b789-4be8266df5a3",
   "metadata": {},
   "outputs": [
    {
     "name": "stdout",
     "output_type": "stream",
     "text": [
      "\n",
      "\n",
      "\n",
      "\n",
      "\n",
      "\n",
      "\n",
      "\n",
      "\n",
      "AIML - Data Scientist, Data and ML Innovation - Careers at Apple\n",
      "\n",
      "\n",
      "\n",
      "\n",
      "\n",
      "\n",
      "\n",
      "AppleStoreMaciPadiPhoneWatchVisionAirPodsTV & HomeEntertainmentAccessoriesSupport\n",
      "\n",
      "\n",
      "0+\n",
      "Careers at AppleOpen MenuClose Menu\n",
      "\n",
      "      Work at Apple\n",
      "    \n",
      " \n",
      "\n",
      "      Life at Apple\n",
      "    \n",
      " \n",
      "\n",
      "      Profile\n",
      "    \n",
      " \n",
      "\n",
      "      Sign In\n",
      "    \n",
      " \n",
      "Search\n",
      "Jobs at Apple\n",
      "AIML - Data Scientist, Data and ML InnovationSeattle, Washington, United StatesMachine Learning and AIAdd to Favorites AIML - Data Scientist, Data and ML InnovationRemoved from favoritesAdd a favoriteCloseTo view your favorites, sign in with your Apple Account.Sign InDon’t have an Apple Account?Create one nowForgot your Apple Account or password?Submit ResumeAIML - Data Scientist, Data and ML InnovationBack to search resultsSummaryPosted: Nov 7, 2024Weekly Hours: 40 Role Number:200571863Would you like a chance to be part of a diverse team driving product impact using meticulous measurement and evaluation, for products and services used by hundreds of millions of people globally? The vision for the AIML Data organization is to create innovative technologies, methodologies, and research to enable amazing user experiences and advance the frontier of machine learning. Within this organization the mission of the Search Analytics team is to inform product and methodology evolution through measurement, evaluation, and analysis of the user experience. You will partner with various engineering teams to improve product quality and guide feature development with data, to deliver amazing search experiences across iPhone, iPad, HomePod, Mac, Watch, tv, across dozens of languages.\n",
      "\n",
      "\n",
      "DescriptionDescriptionResearch and develop evaluation methods to improve the quality of Apple user facing products with evaluation/experimentation engineering teams to get your methodological developments translated into technologies that product engineering will use every day. \n",
      "\n",
      "Work with large, complex data sets. Solve difficult, non-routine analysis problems, applying advanced analytical methods as needed. \n",
      "\n",
      "Conduct analysis that includes data collection and quality control, requirements specification, processing and presentations. Use data from multiple types of sources including human annotation data.\n",
      "\n",
      "Build and prototype analysis pipelines and visualizations iteratively to provide insights at scale. Develop comprehensive knowledge of product data structures and metrics, advocating for changes where needed for product development. Partner closely with product engineering teams on core machine learning algorithms and user experience evaluations. \n",
      "\n",
      "You should be passionate about building outstanding products using rigorous and innovative ways with the data at hand. You are determined to making and sharing impactful work through methodological development and articulate and persuasive communication. \n",
      "\n",
      "\n",
      "Minimum QualificationsMinimum QualificationsExperience in data science, machine learning, and analytics, including statistical data analysis and A/B testing.Using Foundation Models for data science: prompt engineering and fine-tune foundational models for specific tasks.Strong communication skills and the ability to naturally explain difficult technical topics to everyone from data scientists to engineers to business partners.Strong programming skills, including data-querying skills (SQL) and experience with Python scripting language for data processing and development. Be able to translate ideas/methods into code and dashboards without hesitation.M.S in Statistics, Machine Learning, Computer Science, Operations Research or related areas.Key QualificationsKey QualificationsPreferred QualificationsPreferred QualificationsPh.D. in machine learning, computer science, statistics, operations research or related areas.Experience with large language models, leveraging LLM for evaluation and product improvement.Worked in areas intersecting Responsible AI and Generative AIWorked with methods that account for variability in human annotation dataSome comfort in the use of JavaScript frameworks to design UI mock ups.Education & ExperienceEducation & ExperienceAdditional RequirementsAdditional RequirementsPay & BenefitsPay & BenefitsAt Apple, base pay is one part of our total compensation package and is determined within a range. This provides the opportunity to progress as you grow and develop within a role. The base pay range for this role is between $135,400 and $250,600, and your base pay will depend on your skills, qualifications, experience, and location.Apple employees also have the opportunity to become an Apple shareholder through participation in Apple’s discretionary employee stock programs. Apple employees are eligible for discretionary restricted stock unit awards, and can purchase Apple stock at a discount if voluntarily participating in Apple’s Employee Stock Purchase Plan. You’ll also receive benefits including: Comprehensive medical and dental coverage, retirement benefits, a range of discounted products and free services, and for formal education related to advancing your career at Apple, reimbursement for certain educational expenses — including tuition. Additionally, this role might be eligible for discretionary bonuses or commission payments as well as relocation. Learn more about Apple Benefits.Note: Apple benefit, compensation and employee stock programs are subject to eligibility requirements and other terms of the applicable plan or program.MoreApple is an equal opportunity employer that is committed to inclusion and diversity. We take affirmative action to ensure equal opportunity for all applicants without regard to race, color, religion, sex, sexual orientation, gender identity, national origin, disability, Veteran status, or other legally protected characteristics. Learn more about your EEO rights as an applicant.Submit ResumeAIML - Data Scientist, Data and ML InnovationBack to search resultsAdd to Favorites AIML - Data Scientist, Data and ML InnovationRemoved from favoritesAdd a favoriteCloseTo view your favorites, sign in with your Apple Account.Sign InDon’t have an Apple Account?Create one nowForgot your Apple Account or password?See all roles in  Seattle  \n",
      "Apple FooterApple is an equal opportunity employer that is committed to inclusion and diversity. We take affirmative action to ensure equal opportunity for all applicants without regard to race, color, religion, sex, sexual orientation, gender identity, national origin, disability, Veteran status, or other legally protected characteristics. Learn more about your EEO rights as an applicant (Opens in a new window) .Apple will not discriminate or retaliate against applicants who inquire about, disclose, or discuss their compensation or that of other applicants.  United States Department of Labor. Learn more (Opens in a new window) .Apple will consider for employment all qualified applicants with criminal histories in a manner consistent with applicable law. If you’re applying for a position in San Francisco, review the  San Francisco Fair Chance Ordinance guidelines (opens in a new window)  applicable in your area.Apple participates in the E-Verify program in certain locations as required by law. Learn more about the E-Verify program (Opens in a new window) .Apple is committed to working with and providing reasonable accommodation to applicants with physical and mental disabilities.  Reasonable Accommodation and Drug Free Workplace policyLearn more (Opens in a new window) .Apple is a drug-free workplace.  Reasonable Accommodation and Drug Free Workplace policyLearn more (Opens in a new window) .AppleCareers at AppleCareers at AppleShop and LearnShop and LearnStoreMaciPadiPhoneWatchVisionAirPodsTV & HomeAirTagAccessoriesGift CardsApple WalletApple WalletWalletApple CardApple PayApple CashAccountAccountManage Your Apple IDApple Store AccountiCloud.comEntertainmentEntertainmentApple OneApple TV+Apple MusicApple ArcadeApple Fitness+Apple News+Apple PodcastsApple BooksApp StoreApple StoreApple StoreFind a StoreGenius BarToday at AppleGroup ReservationsApple CampApple Store AppCertified RefurbishedApple Trade InFinancingCarrier Deals at AppleOrder StatusShopping HelpFor BusinessFor BusinessApple and BusinessShop for BusinessFor EducationFor EducationApple and EducationShop for K-12Shop for CollegeFor HealthcareFor HealthcareApple in HealthcareHealth on Apple WatchHealth Records on iPhoneFor GovernmentFor GovernmentShop for GovernmentShop for Veterans and MilitaryApple ValuesApple ValuesAccessibilityEducationEnvironmentInclusion and DiversityPrivacyRacial Equity and JusticeSupply ChainAbout AppleAbout AppleNewsroomApple LeadershipCareer OpportunitiesInvestorsEthics & ComplianceEventsContact Apple\n",
      "More ways to shop: Find an Apple Store or other retailer near you. Or call 1-800-MY-APPLE.United StatesCopyright © 2024 Apple Inc. All rights reserved.Privacy PolicyTerms of UseSales and RefundsLegalSite Map\n",
      "\n",
      "\n",
      "\n",
      "\n",
      "\n",
      "\n",
      "\n",
      "\n",
      "\n",
      "\n",
      "\n"
     ]
    }
   ],
   "source": [
    "print(page_data)"
   ]
  },
  {
   "cell_type": "code",
   "execution_count": 5,
   "id": "c92b4315-7d4b-4023-94e9-4b4526513887",
   "metadata": {},
   "outputs": [],
   "source": [
    "from langchain_core.prompts import PromptTemplate"
   ]
  },
  {
   "cell_type": "code",
   "execution_count": 6,
   "id": "d065d72d-eb17-42e1-9952-230d86ada896",
   "metadata": {},
   "outputs": [],
   "source": [
    "prompt_extract = PromptTemplate.from_template(\n",
    "    \"\"\"\n",
    "    ### SCRAPED TEXT FROM WEBSITE:\n",
    "    {page data}\n",
    "    ### INSTRUCTION:\n",
    "    The scraped text is from the career's page of a website.\n",
    "    Your job is to extract the job postings and return them in JSON format containing following keys: 'role','experience','skills' and 'description'.\n",
    "    Only return the valid JSON.\n",
    "    ### VALID JSON (NO PREAMBLE):\n",
    "    \"\"\"\n",
    ")"
   ]
  },
  {
   "cell_type": "code",
   "execution_count": 7,
   "id": "0b665055-ad6f-4909-befc-98cce346ebc3",
   "metadata": {},
   "outputs": [
    {
     "name": "stdout",
     "output_type": "stream",
     "text": [
      "```json\n",
      "{\n",
      "  \"role\": \"AIML - Data Scientist, Data and ML Innovation\",\n",
      "  \"experience\": \"M.S in Statistics, Machine Learning, Computer Science, Operations Research or related areas. Experience in data science, machine learning, and analytics, including statistical data analysis and A/B testing.\",\n",
      "  \"skills\": [\n",
      "    \"Strong communication skills\",\n",
      "    \"Strong programming skills, including data-querying skills (SQL) and experience with Python scripting language for data processing and development\",\n",
      "    \"Experience with large language models, leveraging LLM for evaluation and product improvement\",\n",
      "    \"Experience with Foundation Models for data science: prompt engineering and fine-tune foundational models for specific tasks\"\n",
      "  ],\n",
      "  \"description\": \"Research and develop evaluation methods to improve the quality of Apple user facing products with evaluation/experimentation engineering teams to get your methodological developments translated into technologies that product engineering will use every day. Work with large, complex data sets. Solve difficult, non-routine analysis problems, applying advanced analytical methods as needed. Conduct analysis that includes data collection and quality control, requirements specification, processing and presentations. Use data from multiple types of sources including human annotation data. Build and prototype analysis pipelines and visualizations iteratively to provide insights at scale. Develop comprehensive knowledge of product data structures and metrics, advocating for changes where needed for product development. Partner closely with product engineering teams on core machine learning algorithms and user experience evaluations.\"\n",
      "}\n",
      "```\n"
     ]
    }
   ],
   "source": [
    "chain_extract = prompt_extract | llm\n",
    "res = chain_extract.invoke(input = {'page data':page_data})\n",
    "print(res.content)"
   ]
  },
  {
   "cell_type": "code",
   "execution_count": 9,
   "id": "8ff0a5f4-a42d-479b-9fc3-3439c6cb8cd9",
   "metadata": {},
   "outputs": [
    {
     "data": {
      "text/plain": [
       "str"
      ]
     },
     "execution_count": 9,
     "metadata": {},
     "output_type": "execute_result"
    }
   ],
   "source": [
    "type(res.content)"
   ]
  },
  {
   "cell_type": "code",
   "execution_count": 10,
   "id": "6f6a71ac-ab26-4ada-9a52-66114564646c",
   "metadata": {},
   "outputs": [],
   "source": [
    "from langchain_core.output_parsers import JsonOutputParser"
   ]
  },
  {
   "cell_type": "code",
   "execution_count": 11,
   "id": "693068fc-6526-4ef4-9808-6e0fc18caa73",
   "metadata": {},
   "outputs": [],
   "source": [
    "json_parser = JsonOutputParser()"
   ]
  },
  {
   "cell_type": "code",
   "execution_count": 12,
   "id": "7ffb1b8a-5092-4d04-ac83-6c91c68fa17e",
   "metadata": {},
   "outputs": [],
   "source": [
    "json_res = json_parser.parse(res.content)"
   ]
  },
  {
   "cell_type": "code",
   "execution_count": 13,
   "id": "1c8189a5-422a-43ca-9bc2-55bb09e9a39d",
   "metadata": {},
   "outputs": [
    {
     "data": {
      "text/plain": [
       "{'role': 'AIML - Data Scientist, Data and ML Innovation',\n",
       " 'experience': 'M.S in Statistics, Machine Learning, Computer Science, Operations Research or related areas. Experience in data science, machine learning, and analytics, including statistical data analysis and A/B testing.',\n",
       " 'skills': ['Strong communication skills',\n",
       "  'Strong programming skills, including data-querying skills (SQL) and experience with Python scripting language for data processing and development',\n",
       "  'Experience with large language models, leveraging LLM for evaluation and product improvement',\n",
       "  'Experience with Foundation Models for data science: prompt engineering and fine-tune foundational models for specific tasks'],\n",
       " 'description': 'Research and develop evaluation methods to improve the quality of Apple user facing products with evaluation/experimentation engineering teams to get your methodological developments translated into technologies that product engineering will use every day. Work with large, complex data sets. Solve difficult, non-routine analysis problems, applying advanced analytical methods as needed. Conduct analysis that includes data collection and quality control, requirements specification, processing and presentations. Use data from multiple types of sources including human annotation data. Build and prototype analysis pipelines and visualizations iteratively to provide insights at scale. Develop comprehensive knowledge of product data structures and metrics, advocating for changes where needed for product development. Partner closely with product engineering teams on core machine learning algorithms and user experience evaluations.'}"
      ]
     },
     "execution_count": 13,
     "metadata": {},
     "output_type": "execute_result"
    }
   ],
   "source": [
    "json_res"
   ]
  },
  {
   "cell_type": "code",
   "execution_count": 14,
   "id": "8e51ca96-6316-4dfe-bdd0-44589ea64814",
   "metadata": {},
   "outputs": [
    {
     "data": {
      "text/plain": [
       "dict"
      ]
     },
     "execution_count": 14,
     "metadata": {},
     "output_type": "execute_result"
    }
   ],
   "source": [
    "type(json_res)"
   ]
  },
  {
   "cell_type": "code",
   "execution_count": 17,
   "id": "fdbef850-6225-4b21-82cc-ae368abdd092",
   "metadata": {},
   "outputs": [],
   "source": [
    "import pandas as pd"
   ]
  },
  {
   "cell_type": "code",
   "execution_count": 20,
   "id": "508c86ba-4fb5-45d7-ba58-18e1b8214741",
   "metadata": {},
   "outputs": [
    {
     "data": {
      "text/html": [
       "<div>\n",
       "<style scoped>\n",
       "    .dataframe tbody tr th:only-of-type {\n",
       "        vertical-align: middle;\n",
       "    }\n",
       "\n",
       "    .dataframe tbody tr th {\n",
       "        vertical-align: top;\n",
       "    }\n",
       "\n",
       "    .dataframe thead th {\n",
       "        text-align: right;\n",
       "    }\n",
       "</style>\n",
       "<table border=\"1\" class=\"dataframe\">\n",
       "  <thead>\n",
       "    <tr style=\"text-align: right;\">\n",
       "      <th></th>\n",
       "      <th>Techstack</th>\n",
       "      <th>Links</th>\n",
       "    </tr>\n",
       "  </thead>\n",
       "  <tbody>\n",
       "    <tr>\n",
       "      <th>0</th>\n",
       "      <td>React, Node.js, MongoDB</td>\n",
       "      <td>https://example.com/react-portfolio</td>\n",
       "    </tr>\n",
       "    <tr>\n",
       "      <th>1</th>\n",
       "      <td>Angular,.NET, SQL Server</td>\n",
       "      <td>https://example.com/angular-portfolio</td>\n",
       "    </tr>\n",
       "    <tr>\n",
       "      <th>2</th>\n",
       "      <td>Vue.js, Ruby on Rails, PostgreSQL</td>\n",
       "      <td>https://example.com/vue-portfolio</td>\n",
       "    </tr>\n",
       "    <tr>\n",
       "      <th>3</th>\n",
       "      <td>Python, Django, MySQL</td>\n",
       "      <td>https://example.com/python-portfolio</td>\n",
       "    </tr>\n",
       "    <tr>\n",
       "      <th>4</th>\n",
       "      <td>Java, Spring Boot, Oracle</td>\n",
       "      <td>https://example.com/java-portfolio</td>\n",
       "    </tr>\n",
       "    <tr>\n",
       "      <th>5</th>\n",
       "      <td>Flutter, Firebase, GraphQL</td>\n",
       "      <td>https://example.com/flutter-portfolio</td>\n",
       "    </tr>\n",
       "    <tr>\n",
       "      <th>6</th>\n",
       "      <td>WordPress, PHP, MySQL</td>\n",
       "      <td>https://example.com/wordpress-portfolio</td>\n",
       "    </tr>\n",
       "    <tr>\n",
       "      <th>7</th>\n",
       "      <td>Magento, PHP, MySQL</td>\n",
       "      <td>https://example.com/magento-portfolio</td>\n",
       "    </tr>\n",
       "    <tr>\n",
       "      <th>8</th>\n",
       "      <td>React Native, Node.js, MongoDB</td>\n",
       "      <td>https://example.com/react-native-portfolio</td>\n",
       "    </tr>\n",
       "    <tr>\n",
       "      <th>9</th>\n",
       "      <td>iOS, Swift, Core Data</td>\n",
       "      <td>https://example.com/ios-portfolio</td>\n",
       "    </tr>\n",
       "    <tr>\n",
       "      <th>10</th>\n",
       "      <td>Android, Java, Room Persistence</td>\n",
       "      <td>https://example.com/android-portfolio</td>\n",
       "    </tr>\n",
       "    <tr>\n",
       "      <th>11</th>\n",
       "      <td>Kotlin, Android, Firebase</td>\n",
       "      <td>https://example.com/kotlin-android-portfolio</td>\n",
       "    </tr>\n",
       "    <tr>\n",
       "      <th>12</th>\n",
       "      <td>Android TV, Kotlin, Android NDK</td>\n",
       "      <td>https://example.com/android-tv-portfolio</td>\n",
       "    </tr>\n",
       "    <tr>\n",
       "      <th>13</th>\n",
       "      <td>iOS, Swift, ARKit</td>\n",
       "      <td>https://example.com/ios-ar-portfolio</td>\n",
       "    </tr>\n",
       "    <tr>\n",
       "      <th>14</th>\n",
       "      <td>Cross-platform, Xamarin, Azure</td>\n",
       "      <td>https://example.com/xamarin-portfolio</td>\n",
       "    </tr>\n",
       "    <tr>\n",
       "      <th>15</th>\n",
       "      <td>Backend, Kotlin, Spring Boot</td>\n",
       "      <td>https://example.com/kotlin-backend-portfolio</td>\n",
       "    </tr>\n",
       "    <tr>\n",
       "      <th>16</th>\n",
       "      <td>Frontend, TypeScript, Angular</td>\n",
       "      <td>https://example.com/typescript-frontend-portfolio</td>\n",
       "    </tr>\n",
       "    <tr>\n",
       "      <th>17</th>\n",
       "      <td>Full-stack, JavaScript, Express.js</td>\n",
       "      <td>https://example.com/full-stack-js-portfolio</td>\n",
       "    </tr>\n",
       "    <tr>\n",
       "      <th>18</th>\n",
       "      <td>Machine Learning, Python, TensorFlow</td>\n",
       "      <td>https://example.com/ml-python-portfolio</td>\n",
       "    </tr>\n",
       "    <tr>\n",
       "      <th>19</th>\n",
       "      <td>DevOps, Jenkins, Docker</td>\n",
       "      <td>https://example.com/devops-portfolio</td>\n",
       "    </tr>\n",
       "  </tbody>\n",
       "</table>\n",
       "</div>"
      ],
      "text/plain": [
       "                               Techstack  \\\n",
       "0                React, Node.js, MongoDB   \n",
       "1               Angular,.NET, SQL Server   \n",
       "2      Vue.js, Ruby on Rails, PostgreSQL   \n",
       "3                  Python, Django, MySQL   \n",
       "4              Java, Spring Boot, Oracle   \n",
       "5             Flutter, Firebase, GraphQL   \n",
       "6                  WordPress, PHP, MySQL   \n",
       "7                    Magento, PHP, MySQL   \n",
       "8         React Native, Node.js, MongoDB   \n",
       "9                  iOS, Swift, Core Data   \n",
       "10       Android, Java, Room Persistence   \n",
       "11             Kotlin, Android, Firebase   \n",
       "12       Android TV, Kotlin, Android NDK   \n",
       "13                     iOS, Swift, ARKit   \n",
       "14        Cross-platform, Xamarin, Azure   \n",
       "15          Backend, Kotlin, Spring Boot   \n",
       "16         Frontend, TypeScript, Angular   \n",
       "17    Full-stack, JavaScript, Express.js   \n",
       "18  Machine Learning, Python, TensorFlow   \n",
       "19               DevOps, Jenkins, Docker   \n",
       "\n",
       "                                                Links  \n",
       "0                 https://example.com/react-portfolio  \n",
       "1               https://example.com/angular-portfolio  \n",
       "2                   https://example.com/vue-portfolio  \n",
       "3                https://example.com/python-portfolio  \n",
       "4                  https://example.com/java-portfolio  \n",
       "5               https://example.com/flutter-portfolio  \n",
       "6             https://example.com/wordpress-portfolio  \n",
       "7               https://example.com/magento-portfolio  \n",
       "8          https://example.com/react-native-portfolio  \n",
       "9                   https://example.com/ios-portfolio  \n",
       "10              https://example.com/android-portfolio  \n",
       "11       https://example.com/kotlin-android-portfolio  \n",
       "12           https://example.com/android-tv-portfolio  \n",
       "13               https://example.com/ios-ar-portfolio  \n",
       "14              https://example.com/xamarin-portfolio  \n",
       "15       https://example.com/kotlin-backend-portfolio  \n",
       "16  https://example.com/typescript-frontend-portfolio  \n",
       "17        https://example.com/full-stack-js-portfolio  \n",
       "18            https://example.com/ml-python-portfolio  \n",
       "19               https://example.com/devops-portfolio  "
      ]
     },
     "execution_count": 20,
     "metadata": {},
     "output_type": "execute_result"
    }
   ],
   "source": [
    "df = pd.read_csv(\"my_portfolio.csv\")\n",
    "\n",
    "df"
   ]
  },
  {
   "cell_type": "code",
   "execution_count": 29,
   "id": "609cbedd-235c-46cb-ac86-054da3532dc2",
   "metadata": {},
   "outputs": [],
   "source": [
    "import chromadb\n",
    "import uuid"
   ]
  },
  {
   "cell_type": "code",
   "execution_count": 30,
   "id": "dfcc7b7b-f2c4-4c34-afd5-8e250aa240c5",
   "metadata": {},
   "outputs": [],
   "source": [
    "client = chromadb.PersistentClient('vectorstore')\n",
    "collection = client.get_or_create_collection(name = \"portfolio\")\n",
    "\n",
    "if not collection.count():\n",
    "    for _, row in df.iterrows():\n",
    "        collection.add(documents=row[\"Techstack\"], metadatas={\"links\": row[\"Links\"]},ids=[str(uuid.uuid4())])"
   ]
  },
  {
   "cell_type": "code",
   "execution_count": 35,
   "id": "e89a1a9a-9fff-49fb-a591-fd6836d1a290",
   "metadata": {},
   "outputs": [
    {
     "ename": "NameError",
     "evalue": "name 'job' is not defined",
     "output_type": "error",
     "traceback": [
      "\u001b[1;31m---------------------------------------------------------------------------\u001b[0m",
      "\u001b[1;31mNameError\u001b[0m                                 Traceback (most recent call last)",
      "Cell \u001b[1;32mIn[35], line 1\u001b[0m\n\u001b[1;32m----> 1\u001b[0m links \u001b[38;5;241m=\u001b[39m collection\u001b[38;5;241m.\u001b[39mquery(query_texts\u001b[38;5;241m=\u001b[39m\u001b[43mjob\u001b[49m[\u001b[38;5;124m'\u001b[39m\u001b[38;5;124mskills\u001b[39m\u001b[38;5;124m'\u001b[39m], n_results\u001b[38;5;241m=\u001b[39m\u001b[38;5;241m2\u001b[39m)\u001b[38;5;241m.\u001b[39mget(\u001b[38;5;124m'\u001b[39m\u001b[38;5;124mmetadatas\u001b[39m\u001b[38;5;124m'\u001b[39m, [])\n\u001b[0;32m      2\u001b[0m links\n",
      "\u001b[1;31mNameError\u001b[0m: name 'job' is not defined"
     ]
    }
   ],
   "source": [
    "links = collection.query(query_texts=[\"Experience in Python\",\"Expertise in React Native\"], n_results = 2).get('metadata',[])"
   ]
  },
  {
   "cell_type": "code",
   "execution_count": 37,
   "id": "1c53761f-e603-41ea-b30b-0b4f8703baeb",
   "metadata": {},
   "outputs": [
    {
     "data": {
      "text/plain": [
       "['Strong communication skills',\n",
       " 'Strong programming skills, including data-querying skills (SQL) and experience with Python scripting language for data processing and development',\n",
       " 'Experience with large language models, leveraging LLM for evaluation and product improvement',\n",
       " 'Experience with Foundation Models for data science: prompt engineering and fine-tune foundational models for specific tasks']"
      ]
     },
     "execution_count": 37,
     "metadata": {},
     "output_type": "execute_result"
    }
   ],
   "source": [
    "job = json_res\n",
    "job['skills']"
   ]
  },
  {
   "cell_type": "code",
   "execution_count": 38,
   "id": "e0b703ce-a68f-4050-980e-40e1964205a8",
   "metadata": {},
   "outputs": [
    {
     "data": {
      "text/plain": [
       "[[{'links': 'https://example.com/ml-python-portfolio'},\n",
       "  {'links': 'https://example.com/android-portfolio'}],\n",
       " [{'links': 'https://example.com/python-portfolio'},\n",
       "  {'links': 'https://example.com/ml-python-portfolio'}],\n",
       " [{'links': 'https://example.com/ml-python-portfolio'},\n",
       "  {'links': 'https://example.com/full-stack-js-portfolio'}],\n",
       " [{'links': 'https://example.com/ml-python-portfolio'},\n",
       "  {'links': 'https://example.com/ios-portfolio'}]]"
      ]
     },
     "execution_count": 38,
     "metadata": {},
     "output_type": "execute_result"
    }
   ],
   "source": [
    "links = collection.query(query_texts=job['skills'], n_results=2).get('metadatas', [])\n",
    "links"
   ]
  },
  {
   "cell_type": "code",
   "execution_count": 39,
   "id": "e7859a34-970b-4295-aa6e-67201f21f2dd",
   "metadata": {},
   "outputs": [
    {
     "data": {
      "text/plain": [
       "{'role': 'AIML - Data Scientist, Data and ML Innovation',\n",
       " 'experience': 'M.S in Statistics, Machine Learning, Computer Science, Operations Research or related areas. Experience in data science, machine learning, and analytics, including statistical data analysis and A/B testing.',\n",
       " 'skills': ['Strong communication skills',\n",
       "  'Strong programming skills, including data-querying skills (SQL) and experience with Python scripting language for data processing and development',\n",
       "  'Experience with large language models, leveraging LLM for evaluation and product improvement',\n",
       "  'Experience with Foundation Models for data science: prompt engineering and fine-tune foundational models for specific tasks'],\n",
       " 'description': 'Research and develop evaluation methods to improve the quality of Apple user facing products with evaluation/experimentation engineering teams to get your methodological developments translated into technologies that product engineering will use every day. Work with large, complex data sets. Solve difficult, non-routine analysis problems, applying advanced analytical methods as needed. Conduct analysis that includes data collection and quality control, requirements specification, processing and presentations. Use data from multiple types of sources including human annotation data. Build and prototype analysis pipelines and visualizations iteratively to provide insights at scale. Develop comprehensive knowledge of product data structures and metrics, advocating for changes where needed for product development. Partner closely with product engineering teams on core machine learning algorithms and user experience evaluations.'}"
      ]
     },
     "execution_count": 39,
     "metadata": {},
     "output_type": "execute_result"
    }
   ],
   "source": [
    "job"
   ]
  },
  {
   "cell_type": "code",
   "execution_count": 40,
   "id": "527a69b4-e6f2-4ff0-b3bf-9c4bd775cd02",
   "metadata": {},
   "outputs": [
    {
     "name": "stdout",
     "output_type": "stream",
     "text": [
      "Subject: Expert Data Science Solutions for Apple's AIML - Data Scientist Role\n",
      "\n",
      "Dear Hiring Manager,\n",
      "\n",
      "I came across the job description for the AIML - Data Scientist, Data and ML Innovation role at Apple, and I'm excited to introduce AtliQ, an AI & Software Consulting company that can help you fulfill your data science needs.\n",
      "\n",
      "With our expertise in machine learning, data analytics, and software development, we can support your team in researching and developing evaluation methods to improve the quality of Apple's user-facing products. Our team of skilled data scientists and engineers can work with large, complex data sets, solve difficult analysis problems, and develop comprehensive knowledge of product data structures and metrics.\n",
      "\n",
      "At AtliQ, we have a proven track record of delivering tailored solutions that foster scalability, process optimization, cost reduction, and heightened overall efficiency. Our team is well-versed in programming languages such as Python, and we have experience with large language models, prompt engineering, and fine-tuning foundational models for specific tasks.\n",
      "\n",
      "Some of our relevant portfolio pieces include:\n",
      "\n",
      "* Machine Learning and Python solutions: https://example.com/ml-python-portfolio\n",
      "* Full-stack JavaScript solutions: https://example.com/full-stack-js-portfolio\n",
      "* Python solutions: https://example.com/python-portfolio\n",
      "\n",
      "We'd love to discuss how our expertise can support your team's goals and objectives. If you're interested in learning more about our capabilities, I'd be happy to schedule a call to explore further.\n",
      "\n",
      "Best regards,\n",
      "\n",
      "Mohan\n",
      "Business Development Executive\n",
      "AtliQ\n"
     ]
    }
   ],
   "source": [
    "prompt_email = PromptTemplate.from_template(\n",
    "        \"\"\"\n",
    "        ### JOB DESCRIPTION:\n",
    "        {job_description}\n",
    "        \n",
    "        ### INSTRUCTION:\n",
    "        You are Mohan, a business development executive at AtliQ. AtliQ is an AI & Software Consulting company dedicated to facilitating\n",
    "        the seamless integration of business processes through automated tools. \n",
    "        Over our experience, we have empowered numerous enterprises with tailored solutions, fostering scalability, \n",
    "        process optimization, cost reduction, and heightened overall efficiency. \n",
    "        Your job is to write a cold email to the client regarding the job mentioned above describing the capability of AtliQ \n",
    "        in fulfilling their needs.\n",
    "        Also add the most relevant ones from the following links to showcase Atliq's portfolio: {link_list}\n",
    "        Remember you are Mohan, BDE at AtliQ. \n",
    "        Do not provide a preamble.\n",
    "        ### EMAIL (NO PREAMBLE):\n",
    "        \n",
    "        \"\"\"\n",
    "        )\n",
    "\n",
    "chain_email = prompt_email | llm\n",
    "res = chain_email.invoke({\"job_description\": str(job), \"link_list\": links})\n",
    "print(res.content)"
   ]
  },
  {
   "cell_type": "code",
   "execution_count": null,
   "id": "906e15d5-a7e7-462d-958b-6dfce9a78d4a",
   "metadata": {},
   "outputs": [],
   "source": []
  }
 ],
 "metadata": {
  "kernelspec": {
   "display_name": "Python 3 (ipykernel)",
   "language": "python",
   "name": "python3"
  },
  "language_info": {
   "codemirror_mode": {
    "name": "ipython",
    "version": 3
   },
   "file_extension": ".py",
   "mimetype": "text/x-python",
   "name": "python",
   "nbconvert_exporter": "python",
   "pygments_lexer": "ipython3",
   "version": "3.11.9"
  }
 },
 "nbformat": 4,
 "nbformat_minor": 5
}
